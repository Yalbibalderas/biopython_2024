{
 "cells": [
  {
   "cell_type": "markdown",
   "metadata": {},
   "source": [
    "## Seq\n",
    "\n",
    "Este objeto está compuesto de la secuencia misma"
   ]
  },
  {
   "cell_type": "code",
   "execution_count": 69,
   "metadata": {},
   "outputs": [],
   "source": [
    "from Bio.Seq import Seq"
   ]
  },
  {
   "cell_type": "code",
   "execution_count": 71,
   "metadata": {},
   "outputs": [
    {
     "data": {
      "text/plain": [
       "Seq('CCGGGTTTA')"
      ]
     },
     "execution_count": 71,
     "metadata": {},
     "output_type": "execute_result"
    }
   ],
   "source": [
    "seq = Seq('CCGGGTTTA')\n",
    "seq"
   ]
  },
  {
   "cell_type": "markdown",
   "metadata": {},
   "source": [
    "Ahora que esta secuencia está definida como ADN, puedes aplicar operaciones como transcribir y traducir. Los objetos seq tienen los métodos **transcribe** y **translate**."
   ]
  },
  {
   "cell_type": "code",
   "execution_count": 74,
   "metadata": {},
   "outputs": [
    {
     "data": {
      "text/plain": [
       "Seq('CCGGGUUUA')"
      ]
     },
     "execution_count": 74,
     "metadata": {},
     "output_type": "execute_result"
    }
   ],
   "source": [
    "seq.transcribe()"
   ]
  },
  {
   "cell_type": "code",
   "execution_count": 76,
   "metadata": {},
   "outputs": [
    {
     "data": {
      "text/plain": [
       "Seq('PGL')"
      ]
     },
     "execution_count": 76,
     "metadata": {},
     "output_type": "execute_result"
    }
   ],
   "source": [
    "seq.translate()"
   ]
  },
  {
   "cell_type": "markdown",
   "metadata": {},
   "source": [
    "Una secuencia de ARN no puede ser transcrita, solo traducida, por eso el resultado es el mismo"
   ]
  },
  {
   "cell_type": "code",
   "execution_count": 79,
   "metadata": {},
   "outputs": [
    {
     "data": {
      "text/plain": [
       "Seq('CCGGUU')"
      ]
     },
     "execution_count": 79,
     "metadata": {},
     "output_type": "execute_result"
    }
   ],
   "source": [
    "rna_seq = Seq('CCGGUU')\n",
    "rna_seq"
   ]
  },
  {
   "cell_type": "code",
   "execution_count": 81,
   "metadata": {},
   "outputs": [
    {
     "data": {
      "text/plain": [
       "Seq('CCGGUU')"
      ]
     },
     "execution_count": 81,
     "metadata": {},
     "output_type": "execute_result"
    }
   ],
   "source": [
    "rna_seq.transcribe()"
   ]
  },
  {
   "cell_type": "code",
   "execution_count": 83,
   "metadata": {},
   "outputs": [
    {
     "data": {
      "text/plain": [
       "Seq('PV')"
      ]
     },
     "execution_count": 83,
     "metadata": {},
     "output_type": "execute_result"
    }
   ],
   "source": [
    "rna_seq.translate()"
   ]
  },
  {
   "cell_type": "markdown",
   "metadata": {},
   "source": [
    "Puedes también pasar de ARN a ADN usando el método **back_transcribe**."
   ]
  },
  {
   "cell_type": "code",
   "execution_count": 86,
   "metadata": {},
   "outputs": [
    {
     "data": {
      "text/plain": [
       "Seq('CCGGTT')"
      ]
     },
     "execution_count": 86,
     "metadata": {},
     "output_type": "execute_result"
    }
   ],
   "source": [
    "rna_seq.back_transcribe()"
   ]
  },
  {
   "cell_type": "markdown",
   "metadata": {},
   "source": [
    "Nota que la función **transcribe** reemplaza cada \"T\" con una \"U\". En biología, el proceso de transcripción parte de la cadena plantilla, haciendo un complemento reverso (TCAG → CUGA) para generar el mRNA.\n",
    "\n",
    "![seqalign](../figures/transcription.png)\n",
    "\n",
    "\n",
    "En Biopython y en la bioinformática en general, se trabaja directamente con la cadena codificante porque es mucho más fácil hacer el cambio T → U. Biopython asume que tú le vas a dar esta cadena a la función. \n",
    "\n",
    "El módulo Bio.Seq también tiene funciones de **transcribe**, **back_transcribe**, **translate** y **reverse_complement** que pueden ser usados sobre los objetos Seq o cadenas:"
   ]
  },
  {
   "cell_type": "code",
   "execution_count": 89,
   "metadata": {},
   "outputs": [],
   "source": [
    "from Bio.Seq import translate, transcribe, back_transcribe, reverse_complement"
   ]
  },
  {
   "cell_type": "code",
   "execution_count": 91,
   "metadata": {},
   "outputs": [
    {
     "data": {
      "text/plain": [
       "str"
      ]
     },
     "execution_count": 91,
     "metadata": {},
     "output_type": "execute_result"
    }
   ],
   "source": [
    "dnaseq = 'ATGGTATAA'\n",
    "type(dnaseq)"
   ]
  },
  {
   "cell_type": "code",
   "execution_count": 93,
   "metadata": {},
   "outputs": [
    {
     "data": {
      "text/plain": [
       "'MV*'"
      ]
     },
     "execution_count": 93,
     "metadata": {},
     "output_type": "execute_result"
    }
   ],
   "source": [
    "translate(dnaseq)"
   ]
  },
  {
   "cell_type": "code",
   "execution_count": 95,
   "metadata": {},
   "outputs": [
    {
     "data": {
      "text/plain": [
       "'AUGGUAUAA'"
      ]
     },
     "execution_count": 95,
     "metadata": {},
     "output_type": "execute_result"
    }
   ],
   "source": [
    "transcribe(dnaseq)"
   ]
  },
  {
   "cell_type": "code",
   "execution_count": 97,
   "metadata": {},
   "outputs": [
    {
     "data": {
      "text/plain": [
       "'AUGGUAUAA'"
      ]
     },
     "execution_count": 97,
     "metadata": {},
     "output_type": "execute_result"
    }
   ],
   "source": [
    "rnaseq = transcribe(dnaseq)\n",
    "rnaseq"
   ]
  },
  {
   "cell_type": "code",
   "execution_count": 99,
   "metadata": {},
   "outputs": [
    {
     "data": {
      "text/plain": [
       "'MV*'"
      ]
     },
     "execution_count": 99,
     "metadata": {},
     "output_type": "execute_result"
    }
   ],
   "source": [
    "translate(rnaseq)"
   ]
  },
  {
   "cell_type": "code",
   "execution_count": 101,
   "metadata": {},
   "outputs": [
    {
     "data": {
      "text/plain": [
       "'ATGGTATAA'"
      ]
     },
     "execution_count": 101,
     "metadata": {},
     "output_type": "execute_result"
    }
   ],
   "source": [
    "back_transcribe(rnaseq)"
   ]
  },
  {
   "cell_type": "markdown",
   "metadata": {},
   "source": [
    "Los objetos seq se comportan casi como un string, y de hecho hay algunas operaciones permitidas"
   ]
  },
  {
   "cell_type": "code",
   "execution_count": 104,
   "metadata": {},
   "outputs": [
    {
     "data": {
      "text/plain": [
       "Seq('CCGGGTTAACGTA')"
      ]
     },
     "execution_count": 104,
     "metadata": {},
     "output_type": "execute_result"
    }
   ],
   "source": [
    "seq = Seq('CCGGGTTAACGTA')\n",
    "seq"
   ]
  },
  {
   "cell_type": "code",
   "execution_count": 106,
   "metadata": {},
   "outputs": [
    {
     "data": {
      "text/plain": [
       "Seq('CCGGG')"
      ]
     },
     "execution_count": 106,
     "metadata": {},
     "output_type": "execute_result"
    }
   ],
   "source": [
    "seq[:5]"
   ]
  },
  {
   "cell_type": "code",
   "execution_count": 108,
   "metadata": {},
   "outputs": [
    {
     "data": {
      "text/plain": [
       "13"
      ]
     },
     "execution_count": 108,
     "metadata": {},
     "output_type": "execute_result"
    }
   ],
   "source": [
    "len(seq)"
   ]
  },
  {
   "cell_type": "code",
   "execution_count": 44,
   "metadata": {},
   "outputs": [
    {
     "name": "stdout",
     "output_type": "stream",
     "text": [
      "CCGGGTTAACGTA\n"
     ]
    }
   ],
   "source": [
    "print(seq)"
   ]
  },
  {
   "cell_type": "code",
   "execution_count": 110,
   "metadata": {},
   "outputs": [],
   "source": [
    "from Bio import Seq\n",
    "import inspect"
   ]
  },
  {
   "cell_type": "code",
   "execution_count": 114,
   "metadata": {},
   "outputs": [
    {
     "name": "stdout",
     "output_type": "stream",
     "text": [
      "class Seq(_SeqAbstractBaseClass):\n",
      "    \"\"\"Read-only sequence object (essentially a string with biological methods).\n",
      "\n",
      "    Like normal python strings, our basic sequence object is immutable.\n",
      "    This prevents you from doing my_seq[5] = \"A\" for example, but does allow\n",
      "    Seq objects to be used as dictionary keys.\n",
      "\n",
      "    The Seq object provides a number of string like methods (such as count,\n",
      "    find, split and strip).\n",
      "\n",
      "    The Seq object also provides some biological methods, such as complement,\n",
      "    reverse_complement, transcribe, back_transcribe and translate (which are\n",
      "    not applicable to protein sequences).\n",
      "    \"\"\"\n",
      "\n",
      "    _data: Union[bytes, SequenceDataAbstractBaseClass]\n",
      "\n",
      "    def __init__(\n",
      "        self,\n",
      "        data: Union[\n",
      "            str,\n",
      "            bytes,\n",
      "            bytearray,\n",
      "            _SeqAbstractBaseClass,\n",
      "            SequenceDataAbstractBaseClass,\n",
      "            dict,\n",
      "            None,\n",
      "        ],\n",
      "        length: Optional[int] = None,\n",
      "    ):\n",
      "        \"\"\"Create a Seq object.\n",
      "\n",
      "        Arguments:\n",
      "         - data - Sequence, required (string)\n",
      "         - length - Sequence length, used only if data is None or a dictionary (integer)\n",
      "\n",
      "        You will typically use Bio.SeqIO to read in sequences from files as\n",
      "        SeqRecord objects, whose sequence will be exposed as a Seq object via\n",
      "        the seq property.\n",
      "\n",
      "        However, you can also create a Seq object directly:\n",
      "\n",
      "        >>> from Bio.Seq import Seq\n",
      "        >>> my_seq = Seq(\"MKQHKAMIVALIVICITAVVAALVTRKDLCEVHIRTGQTEVAVF\")\n",
      "        >>> my_seq\n",
      "        Seq('MKQHKAMIVALIVICITAVVAALVTRKDLCEVHIRTGQTEVAVF')\n",
      "        >>> print(my_seq)\n",
      "        MKQHKAMIVALIVICITAVVAALVTRKDLCEVHIRTGQTEVAVF\n",
      "\n",
      "        To create a Seq object with for a sequence of known length but\n",
      "        unknown sequence contents, use None for the data argument and pass\n",
      "        the sequence length for the length argument. Trying to access the\n",
      "        sequence contents of a Seq object created in this way will raise\n",
      "        an UndefinedSequenceError:\n",
      "\n",
      "        >>> my_undefined_sequence = Seq(None, 20)\n",
      "        >>> my_undefined_sequence\n",
      "        Seq(None, length=20)\n",
      "        >>> len(my_undefined_sequence)\n",
      "        20\n",
      "        >>> print(my_undefined_sequence)\n",
      "        Traceback (most recent call last):\n",
      "        ...\n",
      "        Bio.Seq.UndefinedSequenceError: Sequence content is undefined\n",
      "\n",
      "        If the sequence contents is known for parts of the sequence only, use\n",
      "        a dictionary for the data argument to pass the known sequence segments:\n",
      "\n",
      "        >>> my_partially_defined_sequence = Seq({3: \"ACGT\"}, 10)\n",
      "        >>> my_partially_defined_sequence\n",
      "        Seq({3: 'ACGT'}, length=10)\n",
      "        >>> len(my_partially_defined_sequence)\n",
      "        10\n",
      "        >>> print(my_partially_defined_sequence)\n",
      "        Traceback (most recent call last):\n",
      "        ...\n",
      "        Bio.Seq.UndefinedSequenceError: Sequence content is only partially defined\n",
      "        >>> my_partially_defined_sequence[3:7]\n",
      "        Seq('ACGT')\n",
      "        >>> print(my_partially_defined_sequence[3:7])\n",
      "        ACGT\n",
      "        \"\"\"\n",
      "        if data is None:\n",
      "            if length is None:\n",
      "                raise ValueError(\"length must not be None if data is None\")\n",
      "            elif length == 0:\n",
      "                self._data = b\"\"\n",
      "            elif length < 0:\n",
      "                raise ValueError(\"length must not be negative.\")\n",
      "            else:\n",
      "                self._data = _UndefinedSequenceData(length)\n",
      "        elif isinstance(data, (bytes, SequenceDataAbstractBaseClass)):\n",
      "            self._data = data\n",
      "        elif isinstance(data, (bytearray, _SeqAbstractBaseClass)):\n",
      "            self._data = bytes(data)\n",
      "        elif isinstance(data, str):\n",
      "            self._data = bytes(data, encoding=\"ASCII\")\n",
      "        elif isinstance(data, dict):\n",
      "            if length is None:\n",
      "                raise ValueError(\"length must not be None if data is a dictionary\")\n",
      "            elif length == 0:\n",
      "                self._data = b\"\"\n",
      "            elif length < 0:\n",
      "                raise ValueError(\"length must not be negative.\")\n",
      "            else:\n",
      "                current = 0  # not needed here, but it keeps mypy happy\n",
      "                end = -1\n",
      "                starts = sorted(data.keys())\n",
      "                _data: dict[int, bytes] = {}\n",
      "                for start in starts:\n",
      "                    seq = data[start]\n",
      "                    if isinstance(seq, str):\n",
      "                        seq = bytes(seq, encoding=\"ASCII\")\n",
      "                    else:\n",
      "                        try:\n",
      "                            seq = bytes(seq)\n",
      "                        except Exception:\n",
      "                            raise ValueError(\"Expected bytes-like objects or strings\")\n",
      "                    if start < end:\n",
      "                        raise ValueError(\"Sequence data are overlapping.\")\n",
      "                    elif start == end:\n",
      "                        _data[current] += seq  # noqa: F821\n",
      "                    else:\n",
      "                        _data[start] = seq\n",
      "                        current = start\n",
      "                    end = start + len(seq)\n",
      "                if end > length:\n",
      "                    raise ValueError(\n",
      "                        \"Provided sequence data extend beyond sequence length.\"\n",
      "                    )\n",
      "                elif end == length and current == 0:\n",
      "                    # sequence is fully defined\n",
      "                    self._data = _data[current]\n",
      "                else:\n",
      "                    self._data = _PartiallyDefinedSequenceData(length, _data)\n",
      "        else:\n",
      "            raise TypeError(\n",
      "                \"data should be a string, bytes, bytearray, Seq, or MutableSeq object\"\n",
      "            )\n",
      "\n",
      "    def __hash__(self):\n",
      "        \"\"\"Hash of the sequence as a string for comparison.\n",
      "\n",
      "        See Seq object comparison documentation (method ``__eq__`` in\n",
      "        particular) as this has changed in Biopython 1.65. Older versions\n",
      "        would hash on object identity.\n",
      "        \"\"\"\n",
      "        return hash(self._data)\n",
      "\n"
     ]
    }
   ],
   "source": [
    "print(inspect.getsource(Seq.Seq))"
   ]
  },
  {
   "cell_type": "code",
   "execution_count": 116,
   "metadata": {},
   "outputs": [
    {
     "data": {
      "text/plain": [
       "'TTATACCAT'"
      ]
     },
     "execution_count": 116,
     "metadata": {},
     "output_type": "execute_result"
    }
   ],
   "source": [
    "reverse_complement(dnaseq)"
   ]
  },
  {
   "cell_type": "code",
   "execution_count": null,
   "metadata": {},
   "outputs": [],
   "source": []
  }
 ],
 "metadata": {
  "kernelspec": {
   "display_name": "Python 3 (ipykernel)",
   "language": "python",
   "name": "python3"
  },
  "language_info": {
   "codemirror_mode": {
    "name": "ipython",
    "version": 3
   },
   "file_extension": ".py",
   "mimetype": "text/x-python",
   "name": "python",
   "nbconvert_exporter": "python",
   "pygments_lexer": "ipython3",
   "version": "3.12.7"
  }
 },
 "nbformat": 4,
 "nbformat_minor": 4
}
