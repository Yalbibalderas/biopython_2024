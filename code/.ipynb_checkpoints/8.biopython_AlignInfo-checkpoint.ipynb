{
 "cells": [
  {
   "cell_type": "markdown",
   "metadata": {},
   "source": [
    "## AlignInfo\n",
    "\n",
    "El módulo de **AlignInfo** es usado para extraer información de los objetos de alineamientos. Provee la función **print_info_content**, y las clases **SummaryInfo** y **PSSM**.\n"
   ]
  },
  {
   "cell_type": "code",
   "execution_count": 2,
   "metadata": {},
   "outputs": [],
   "source": [
    "from Bio import AlignIO\n",
    "from Bio.Align.AlignInfo import SummaryInfo"
   ]
  },
  {
   "cell_type": "code",
   "execution_count": 4,
   "metadata": {},
   "outputs": [
    {
     "name": "stdout",
     "output_type": "stream",
     "text": [
      "Alignment with 8 rows and 1407 columns\n",
      "MDKKYSIGLDIGTNSVGWAVITDDYKVPSKKFKVLGNTDRHSIK...GGD J7M7J1\n",
      "MDKKYSIGLDIGTNSVGWAVITDDYKVPSKKFKVLGNTDRHSIK...GGD A0A0C6FZC2\n",
      "MDKKYSIGLDIGTNSVGWAVITDDYKVPSKKFKVLGNTDRHSIK...GGD A0A1C2CVQ9\n",
      "MDKKYSIGLDIGTNSVGWAVITDDYKVPSKKFKVLGNTDRHSIK...GGD A0A1C2CV43\n",
      "MDKKYSIGLDIGTNSVGWAVITDDYKVPSKKFKVLGNTDRHSIK...GGD Q48TU5\n",
      "MDKKYSIGLDIGTNSVGWAVITDDYKVPSKKFKVLGNTDRHSIK...GGD M4YX12\n",
      "MKKPYSIGLDIGTNSVGWAVVTDDYKVPAKKMKVLGNTDKSHIK...GGD A0A0E2EP65\n",
      "--------------------------------------------...GED A0A150NVN1\n"
     ]
    }
   ],
   "source": [
    "align = AlignIO.read('../samples/cas9align.fasta', 'fasta')\n",
    "summary = SummaryInfo(align)\n",
    "dir(summary)\n",
    "print(summary.alignment)"
   ]
  },
  {
   "cell_type": "code",
   "execution_count": 6,
   "metadata": {},
   "outputs": [
    {
     "name": "stdout",
     "output_type": "stream",
     "text": [
      "MDKKYSIGLDIGTNSVGWAVITDDYKVPSKKFKVLGNTDRHSIKKNLIGALLFDSGETAEATRLKRTARRRYTRRKNRIXYLQEIFSXEMXKVDDSFFHRLEESFLVEEDKKHERHPIFGNIVDEVAYHEKYPTIYHLRKKLXDSTDKADLRLIYLALAHMIKFRGHFLIEGDLNPDNSDVDKLFIQLVQTYNQLFEENPINASXVDAKAILSARLSKSRRLENLIAQLPGEKXNGLFGNLIALSLGLTPNFKSNFDLAEDAKLQLSKDTYDDDLDNLLAQIGDQYADLFLAAKNLSDAILLSDILRVNXEITKAPLSASMIKRYDEHHQDLTLLKALVRQQLPEKYKEIFFDQSKNGYAGYIDGGASQEEFYKFIKPILEKMDGTEELLXKLNREDLLRKQRTFDNGSIPHQIHLGELHAILRRQEDFYPFLKDNREKIEKILTFRIPYYVGPLARGNSRFAWMTRKSEETITPWNFEEVVDKGASAQSFIERMTNFDKNLPNEKVLPKHSLLYEYFTVYNELTKVKYVTEGMRKPAFLSGXQKXAIVDLLFKTNRKVTVKQLKEDYFKKIECFDSVEISGVDKEEDRFNASLGTYHDLLKIIKDKDFLDNEENEDILEDIVLTLTLFEDXEMIEERLKXYAXLFDDKVMKQLKRRXYTGWGRLSRKLINGIRDKQSGKTILDFLKSDGFANRNFMQLIXDDSLTFKEXIQKAQVSGQGXSLHEXIANLAGSPAIKKGILQXVKVVDELVKVMGRHKPENIVIEMARENQTTQKGQKNSRERMKRIEEGIKELAPGLGSQILKEHPVENTQLQNEKLYLYYLQNGRDMYVDQELDINRLSDYDVDHIVPQSFIKDDSIDNKVLTRSDKNRGKSDNVPSEEVVKKMKNYWRQLLNAKLITQRKFDNLTKAERGGLSELDKAGFIKRQLVETRQITKHVAQILDSRMNTKYDENDKLIREVKVITLKSKLVSDFRKDFQFYKVREINNYHHAHDAYLNAVVGTALIKKYPKLESEFVYGDYKVYDVRKMIAKSEDPQEIGKATAKXFFYSNIMNFFKTEITLANGEIRKRPLIETNXETGEIVWXKGRDFATVRKVLSMPQVNIVKKTEVQTGXQNGGXXXESIXXXXXVVDXDKLIXRKTKKXXXXXXKYGGFXSPTVXYSVLVVAKSKVXXGKXKKXKXXKELXGITXXXXXXFEKNPXXFXEXKGYXXVXXDXXIKLPKYSLFEXENGYGXXRRMLASVMANNNSXGXLQKXNEXXLPXKXVXXLYXAXXXEXXKXXXEDNEQXXXXXXXHXXXLXXXXXXIXXFXXXXXXXXXNXXKVXXXXXXXXXXXIXEXXXXXIXLXTLTXXGAPAXFKXXXTTLSIXRKRYXFTDSDKSXXXXLXXTLIHQSITGLYETRIDLSQLGGD\n"
     ]
    },
    {
     "name": "stderr",
     "output_type": "stream",
     "text": [
      "/opt/anaconda3/lib/python3.12/site-packages/Bio/Align/AlignInfo.py:62: BiopythonDeprecationWarning: The `dumb_consensus` method is deprecated and will be removed in a future release of Biopython. As an alternative, you can convert the multiple sequence alignment object to a new-style Alignment object by via its `.alignment` property, and then create a Motif object. You can then use the `.consensus` or `.degenerate_consensus` property of the Motif object to get a consensus sequence. For more control over how the consensus sequence is calculated, you can call the `calculate_consensus` method on the `.counts` property of the Motif object. This is an example for a multiple sequence alignment `msa` of DNA nucleotides:\n",
      ">>> from Bio.Seq import Seq\n",
      ">>> from Bio.SeqRecord import SeqRecord\n",
      ">>> from Bio.Align import MultipleSeqAlignment\n",
      ">>> from Bio.Align.AlignInfo import SummaryInfo\n",
      ">>> msa = MultipleSeqAlignment([SeqRecord(Seq('ACGT')),\n",
      "...                             SeqRecord(Seq('ATGT')),\n",
      "...                             SeqRecord(Seq('ATGT'))])\n",
      ">>> summary = SummaryInfo(msa)\n",
      ">>> dumb_consensus = summary.dumb_consensus(ambiguous='N')\n",
      ">>> print(dumb_consensus)\n",
      "ANGT\n",
      ">>> alignment = msa.alignment\n",
      ">>> from Bio.motifs import Motif\n",
      ">>> motif = Motif('ACGT', alignment)\n",
      ">>> print(motif.consensus)\n",
      "ATGT\n",
      ">>> print(motif.degenerate_consensus)\n",
      "AYGT\n",
      ">>> counts = motif.counts\n",
      ">>> consensus = counts.calculate_consensus(identity=0.7)\n",
      ">>> print(consensus)\n",
      "ANGT\n",
      "\n",
      "If your multiple sequence alignment object was obtained using Bio.AlignIO, then you can obtain a new-style Alignment object directly by using Bio.Align.read instead of Bio.AlignIO.read, or Bio.Align.parse instead of Bio.AlignIO.parse.\n",
      "  warnings.warn(\n"
     ]
    }
   ],
   "source": [
    "consensus = summary.dumb_consensus()\n",
    "print(consensus)"
   ]
  },
  {
   "cell_type": "code",
   "execution_count": 10,
   "metadata": {},
   "outputs": [
    {
     "name": "stdout",
     "output_type": "stream",
     "text": [
      "MDKKYSIGLDIGTNSVGWAVITDDYKVPSKKFKVLGNTDRHSIKKNLIGALLFDSGETAEATRLKRTARRRYTRRKNRIXYLQEIFSXEMXKVDDSFFHRLEESFLVEEDKKHERHPIFGNIVDEVAYHEKYPTIYHLRKKLXDSTDKADLRLIYLALAHMIKFRGHFLIEGDLNPDNSDXDKLFIQLVQTYNQLFEENPINASXVDAKAILSARLSKSRRLENLIAQLPGEKXNGLFGNLIALSLGLTPNFKSNFDLAEDAKLQLSKDTYDDDLDNLLAQIGDQYADLFLAAKNLSDAILLSDILRVNXEITKAPLSASMIKRYDEHHQDLTLLKALVRQQLPEKYKEIFFDQSKNGYAGYIDGGASQEEFYKFIKPILEKMDGTEELLXKLNREDLLRKQRTFDNGSIPHQIHLGELHAILRRQEDFYPFLKDNREKIEKILTFRIPYYVGPLARGNSRFAWMTRKSEETITPWNFEEVVDKGASAQSFIERMTNFDKNLPNEKVLPKHSLLYEYFTVYNELTKVKYVTEGMRKPXFLSGXQKXAIVDLLFKTNRKVTVKQLKEDYFKKIEXFDSVEISGV---EDRFNASLGTYHDLLKIIKDKDFLDNEENEDILEDIVLTLTLFEDXEMIEERLKXYAXLFDDKVMKQLKRRXYTGWGRLSRKLINGIRDKQSGKTILDFLKSDGFANRNFMQLIXDDSLTFKEXIQKAQVSGQGXSLHEXIANLAGSPAIKKGILQXVKVVDELVKVMGXHKPENIVIEMARENQTTQKGQKNSRERMKRIEEGIKEL----GSQILKEHPVENTQLQNEKLYLYYLQNGRDMYVDQELDINRLSDYDVDHIVPQSFIKDDSIDNKVLTRSDKNRGKSDNVPSEEVVKKMKNYWRQLLNAKLITQRKFDNLTKAERGGLSELDKAGFIKRQLVETRQITKHVAQILDSRMNTKYDENDKLIREVKVITLKSKLVSDFRKDFQFYKVREINNYHHAHDAYLNAVVGTALIKKYPKLESEFVYGDYKVYDVRKMIAKSE--QEIGKATAKXFFYSNIMNFFKTEITLANGEIRKRPLIETNXETGEIVWXKGRDFATVRKVLSMPQVNIVKKTEVQTGX----XXXESIXXXXX---XDKLIXRK---XXXXXXKYGGFXSPTVXYSVLVVAKXXVXXGKXKKXKXXKELXGITXXXXXXFEKNPXXFXEXKGYXXVXXDXXIKLPKYSLFEXENG--XX-RMLASXXXXXXXXGXLQKXNEXXLPXKXVXXLYXAXXXEXXKXXXXXXXXXXXXXXXHXXXLXXXXXXIXXFXXXXXXXXXNXXKVXXXXXXXXXXXIXEXXXXXIXLXTLTXXGAPAXFKXXXTT--IXRKRYX------SXXXXLXXTLIHQSITGLYETRIDLSQLGGD\n"
     ]
    }
   ],
   "source": [
    "consensus = summary.gap_consensus()\n",
    "print(consensus)"
   ]
  },
  {
   "cell_type": "code",
   "execution_count": null,
   "metadata": {},
   "outputs": [],
   "source": []
  },
  {
   "cell_type": "code",
   "execution_count": null,
   "metadata": {},
   "outputs": [],
   "source": []
  }
 ],
 "metadata": {
  "kernelspec": {
   "display_name": "Python 3 (ipykernel)",
   "language": "python",
   "name": "python3"
  },
  "language_info": {
   "codemirror_mode": {
    "name": "ipython",
    "version": 3
   },
   "file_extension": ".py",
   "mimetype": "text/x-python",
   "name": "python",
   "nbconvert_exporter": "python",
   "pygments_lexer": "ipython3",
   "version": "3.12.7"
  }
 },
 "nbformat": 4,
 "nbformat_minor": 4
}
