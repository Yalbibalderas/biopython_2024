{
 "cells": [
  {
   "cell_type": "markdown",
   "metadata": {},
   "source": [
    "# Python for bioinformatics: Biopython\n",
    "\n",
    "Biopython (http://www.biopython.org) es un paquete con módulos para desarrollar aplicaciones bioinformáticas. Es una iniciativa de Jeff Chang y Andrew Dalke, pero muchos desarrolladores se han sumado al proyecto como Brad Chapman, Peter Cock,  Michiel de Hoon e Iddo Friedberg. Biopython fue inspirado en BioPerl y se liberó en el 2000, forma parte de la Open Bioinformatics Foundation. El código es de dominio público (https://github.com/biopython/biopython), y es posible contribuir. La licencia de Biopython es muy liberal y puede consultarse en su GitHub.\n",
    "\n",
    "Todos los materiales que vienen a continuación los pueden encontrar en: https://github.com/Serulab/Py4Bio, son parte del libro: Python for Bioinformatics (Sebastian Bassi)."
   ]
  },
  {
   "cell_type": "markdown",
   "metadata": {},
   "source": [
    "## Instalación"
   ]
  },
  {
   "cell_type": "code",
   "execution_count": null,
   "metadata": {},
   "outputs": [],
   "source": [
    "# Si quieren crear un ambiente virtual, https://www.geeksforgeeks.org/python-virtual-environment/\n",
    "# Si están en terminal macOs/linux:\n",
    "\n",
    "pip install virtualenv\n",
    "pip install --upgrade pip\n",
    "\n",
    "virtualenv py4biovirtualenv                            # crea un ambiente virtual\n",
    ". ppy4biovirtualenv/bin/activate                       # para activar el ambiente"
   ]
  },
  {
   "cell_type": "code",
   "execution_count": null,
   "metadata": {},
   "outputs": [],
   "source": [
    "# Si están usando la terminal de Anaconda:\n",
    "\n",
    "conda create -n biopy python                           # crea un ambiente virtual\n",
    "conda info --envs                                      # muestra los ambientes\n",
    "source activate /Users/yalbi/anaconda3/envs/biopy      # para activar el ambiente\n",
    "source deactivate                                      # para desactivar el ambiente"
   ]
  },
  {
   "cell_type": "markdown",
   "metadata": {},
   "source": [
    "Si tienen Windows pueden revisar este link: https://biopython.org/wiki/64-bit_Windows_Biopython\n",
    "\n"
   ]
  },
  {
   "cell_type": "code",
   "execution_count": 3,
   "metadata": {},
   "outputs": [
    {
     "name": "stdout",
     "output_type": "stream",
     "text": [
      "Requirement already satisfied: numpy in /opt/anaconda3/lib/python3.12/site-packages (1.26.4)\n",
      "Note: you may need to restart the kernel to use updated packages.\n"
     ]
    }
   ],
   "source": [
    "pip install numpy                                      # se instala dentro del ambiente"
   ]
  },
  {
   "cell_type": "code",
   "execution_count": 5,
   "metadata": {
    "scrolled": true
   },
   "outputs": [
    {
     "name": "stdout",
     "output_type": "stream",
     "text": [
      "Collecting biopython\n",
      "  Using cached biopython-1.84-cp312-cp312-macosx_11_0_arm64.whl.metadata (12 kB)\n",
      "Requirement already satisfied: numpy in /opt/anaconda3/lib/python3.12/site-packages (from biopython) (1.26.4)\n",
      "Using cached biopython-1.84-cp312-cp312-macosx_11_0_arm64.whl (2.7 MB)\n",
      "Installing collected packages: biopython\n",
      "Successfully installed biopython-1.84\n",
      "Note: you may need to restart the kernel to use updated packages.\n"
     ]
    }
   ],
   "source": [
    "pip install biopython                                  # se instala dentro del ambiente"
   ]
  },
  {
   "cell_type": "code",
   "execution_count": 7,
   "metadata": {
    "scrolled": true
   },
   "outputs": [
    {
     "name": "stdout",
     "output_type": "stream",
     "text": [
      "Requirement already satisfied: biopython in /opt/anaconda3/lib/python3.12/site-packages (1.84)\n",
      "Requirement already satisfied: numpy in /opt/anaconda3/lib/python3.12/site-packages (from biopython) (1.26.4)\n",
      "Note: you may need to restart the kernel to use updated packages.\n"
     ]
    }
   ],
   "source": [
    "pip install --upgrade biopython"
   ]
  },
  {
   "cell_type": "markdown",
   "metadata": {},
   "source": [
    "Para más información sobre la instalación: https://github.com/biopython/biopython/blob/master/README.rst"
   ]
  },
  {
   "cell_type": "code",
   "execution_count": null,
   "metadata": {},
   "outputs": [],
   "source": []
  }
 ],
 "metadata": {
  "kernelspec": {
   "display_name": "Python 3 (ipykernel)",
   "language": "python",
   "name": "python3"
  },
  "language_info": {
   "codemirror_mode": {
    "name": "ipython",
    "version": 3
   },
   "file_extension": ".py",
   "mimetype": "text/x-python",
   "name": "python",
   "nbconvert_exporter": "python",
   "pygments_lexer": "ipython3",
   "version": "3.12.7"
  }
 },
 "nbformat": 4,
 "nbformat_minor": 4
}
